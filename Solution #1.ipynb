{
 "cells": [
  {
   "cell_type": "code",
   "execution_count": 1,
   "id": "53590b6d-e5fa-4e50-b697-9924f4fd4e20",
   "metadata": {},
   "outputs": [],
   "source": [
    "import pandas as pd"
   ]
  },
  {
   "cell_type": "code",
   "execution_count": 2,
   "id": "51276e0e-51fb-4bc5-9ac9-bebcfc7aa947",
   "metadata": {},
   "outputs": [],
   "source": [
    "#Loading the Excel file\n",
    "data = pd.read_excel(\"/Users/yaeesh/Desktop/Git/question_1_2 (1).xlsx\", sheet_name = \"Measurements\")"
   ]
  },
  {
   "cell_type": "code",
   "execution_count": 10,
   "id": "3ebf539d-492d-4581-8e2b-d2020d7212fa",
   "metadata": {},
   "outputs": [
    {
     "data": {
      "text/html": [
       "<div>\n",
       "<style scoped>\n",
       "    .dataframe tbody tr th:only-of-type {\n",
       "        vertical-align: middle;\n",
       "    }\n",
       "\n",
       "    .dataframe tbody tr th {\n",
       "        vertical-align: top;\n",
       "    }\n",
       "\n",
       "    .dataframe thead tr th {\n",
       "        text-align: left;\n",
       "    }\n",
       "\n",
       "    .dataframe thead tr:last-of-type th {\n",
       "        text-align: right;\n",
       "    }\n",
       "</style>\n",
       "<table border=\"1\" class=\"dataframe\">\n",
       "  <thead>\n",
       "    <tr>\n",
       "      <th></th>\n",
       "      <th colspan=\"2\" halign=\"left\">T_Weight</th>\n",
       "      <th colspan=\"2\" halign=\"left\">T_Height</th>\n",
       "    </tr>\n",
       "    <tr>\n",
       "      <th></th>\n",
       "      <th>mean</th>\n",
       "      <th>std</th>\n",
       "      <th>mean</th>\n",
       "      <th>std</th>\n",
       "    </tr>\n",
       "    <tr>\n",
       "      <th>Product Code</th>\n",
       "      <th></th>\n",
       "      <th></th>\n",
       "      <th></th>\n",
       "      <th></th>\n",
       "    </tr>\n",
       "  </thead>\n",
       "  <tbody>\n",
       "    <tr>\n",
       "      <th>LIF001_B</th>\n",
       "      <td>384.9100</td>\n",
       "      <td>0.323316</td>\n",
       "      <td>8.94075</td>\n",
       "      <td>0.262551</td>\n",
       "    </tr>\n",
       "    <tr>\n",
       "      <th>LIF001_Y</th>\n",
       "      <td>382.8250</td>\n",
       "      <td>7.287700</td>\n",
       "      <td>10.26850</td>\n",
       "      <td>0.852276</td>\n",
       "    </tr>\n",
       "    <tr>\n",
       "      <th>LIF002_R</th>\n",
       "      <td>314.7225</td>\n",
       "      <td>17.176708</td>\n",
       "      <td>9.30775</td>\n",
       "      <td>0.893526</td>\n",
       "    </tr>\n",
       "    <tr>\n",
       "      <th>LIF002_Y</th>\n",
       "      <td>523.7950</td>\n",
       "      <td>6.458506</td>\n",
       "      <td>8.18975</td>\n",
       "      <td>0.452906</td>\n",
       "    </tr>\n",
       "  </tbody>\n",
       "</table>\n",
       "</div>"
      ],
      "text/plain": [
       "              T_Weight             T_Height          \n",
       "                  mean        std      mean       std\n",
       "Product Code                                         \n",
       "LIF001_B      384.9100   0.323316   8.94075  0.262551\n",
       "LIF001_Y      382.8250   7.287700  10.26850  0.852276\n",
       "LIF002_R      314.7225  17.176708   9.30775  0.893526\n",
       "LIF002_Y      523.7950   6.458506   8.18975  0.452906"
      ]
     },
     "execution_count": 10,
     "metadata": {},
     "output_type": "execute_result"
    }
   ],
   "source": [
    "#Calculating the mean and standard deviation for the assigned data based on the product\n",
    "data.groupby ('Product Code') [['T_Weight','T_Height']].agg(['mean', 'std'])"
   ]
  }
 ],
 "metadata": {
  "kernelspec": {
   "display_name": "Python 3 (ipykernel)",
   "language": "python",
   "name": "python3"
  },
  "language_info": {
   "codemirror_mode": {
    "name": "ipython",
    "version": 3
   },
   "file_extension": ".py",
   "mimetype": "text/x-python",
   "name": "python",
   "nbconvert_exporter": "python",
   "pygments_lexer": "ipython3",
   "version": "3.11.4"
  }
 },
 "nbformat": 4,
 "nbformat_minor": 5
}
